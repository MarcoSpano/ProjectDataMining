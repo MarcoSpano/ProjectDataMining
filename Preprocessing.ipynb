{
 "cells": [
  {
   "cell_type": "markdown",
   "metadata": {},
   "source": [
    "# Student alcohol consumption\n",
    "Marco Spanò (s1045892) - Peter Horvath (s1042834)\n",
    "\n",
    "### Problem:\n",
    "\n",
    "Alcohol has a bad influence on human life. Despite this, alcoholic drinks are nowadays really\n",
    "common, especially in teenagers’ life that are the ones who suffer the most from the\n",
    "consequences of it (the effects alcohol has on the brain and everyday’s life).\n",
    "The dataset we found contains records of students in secondary school that attended math\n",
    "and portuguese language courses with 33 attributes regarding personal info, alcohol\n",
    "consumption, grades and more.\n",
    "Starting from this dataset we are going to make inferences such as the level of alcohol\n",
    "consumption of a student (based on the other columns) or predicting the grades he/she will\n",
    "get. Furthermore, we can also explore some characteristics of the dataset, like inspecting\n",
    "how alcohol influences the grades of a student.\n",
    "Finally we can try to compare these results with other’s taken from other similar dataset\n",
    "(students from different countries or older/younger) and see if there is correlation from them.\n",
    "Dataset: https://www.kaggle.com/uciml/student-alcohol-consumption#student-mat.csv\n",
    "\n",
    "### Our solution:\n",
    "\n",
    "Our first aim is to start applying a decision tree classifier (and later on also a random forest)\n",
    "on the dataset since it is easily understandable and as well as having a good classifier we\n",
    "can also see which are the variables that most affect the final result.\n",
    "Secondly we will apply a naive bayes classifier to compare the results we get from the\n",
    "decision tree to it. Also with the naive classifier we can try to inspect which attributes\n",
    "contribute the most to predict the outcome.\n",
    "Eventually we can try to apply a small neural network on the dataset and see if it we can\n",
    "achieve a better accuracy, even if the dataset is not so big and the probability of it are low.\n",
    "\n",
    "### Literature:\n",
    "\n",
    "Paper from the researchers who shared the dataset:\n",
    "https://bradzzz.gitbooks.io/ga-seattle-dsi/dsi/dsi_05_classification_databases/2.1-lesson/ass\n",
    "ets/datasets/STUDENT%20ALCOHOL%20CONSUMPTION.pdf\n",
    "A study on alcohol consumption of undergraduate students in the UK in 2000-2001:\n",
    "https://bmcpublichealth.biomedcentral.com/articles/10.1186/1471-2458-8-163\n",
    "A similar study also in UK during 2008-2009:\n",
    "https://www.ncbi.nlm.nih.gov/pmc/articles/PMC3843305/"
   ]
  },
  {
   "cell_type": "code",
   "execution_count": 4,
   "metadata": {},
   "outputs": [],
   "source": [
    "import pandas as pd\n",
    "import numpy as np\n",
    "from sklearn.preprocessing import LabelEncoder\n",
    "\n",
    "data_mat = pd.read_csv('student-mat.csv')\n",
    "data_por = pd.read_csv('student-por.csv')\n",
    "\n",
    "data_mat.head()\n",
    "data_por.head()\n",
    "\n",
    "mat_column_names = data_mat.columns.ravel()\n",
    "por_column_names = data_por.columns.ravel()"
   ]
  },
  {
   "cell_type": "code",
   "execution_count": 5,
   "metadata": {},
   "outputs": [],
   "source": [
    "le = LabelEncoder()\n",
    "\n",
    "indices = [0,1,3,4,5,8,9,10,11,15,16,17,18,19,20,21,22]\n",
    "data_mat = data_mat.values\n",
    "data_por = data_por.values\n",
    "\n",
    "merged = np.concatenate((data_mat,data_por))\n",
    "\n",
    "for i in indices:\n",
    "    merged[:,i] = le.fit_transform(merged[:,i])\n",
    "\n",
    "nparr = np.array(merged, copy = True)    \n",
    "\n",
    "#unique = np.unique(nparr, axis = 0)\n",
    "#print(unique.shape)"
   ]
  },
  {
   "cell_type": "code",
   "execution_count": null,
   "metadata": {},
   "outputs": [],
   "source": []
  }
 ],
 "metadata": {
  "kernelspec": {
   "display_name": "Python 3",
   "language": "python",
   "name": "python3"
  },
  "language_info": {
   "codemirror_mode": {
    "name": "ipython",
    "version": 3
   },
   "file_extension": ".py",
   "mimetype": "text/x-python",
   "name": "python",
   "nbconvert_exporter": "python",
   "pygments_lexer": "ipython3",
   "version": "3.6.9"
  }
 },
 "nbformat": 4,
 "nbformat_minor": 2
}
