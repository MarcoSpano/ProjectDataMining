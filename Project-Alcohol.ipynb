{
 "cells": [
  {
   "cell_type": "markdown",
   "metadata": {},
   "source": [
    "# Student alcohol consumption\n",
    "Marco Spanò (s1045892) - Peter Horvath (s1042834)\n",
    "\n",
    "### Problem:\n",
    "\n",
    "Alcohol has a bad influence on human life. Despite this, alcoholic drinks are nowadays really\n",
    "common, especially in teenagers’ life that are the ones who suffer the most from the\n",
    "consequences of it (the effects alcohol has on the brain and everyday’s life).\n",
    "The dataset we found contains records of students in secondary school that attended math\n",
    "and portuguese language courses with 33 attributes regarding personal info, alcohol\n",
    "consumption, grades and more.\n",
    "Starting from this dataset we are going to make inferences such as the level of alcohol\n",
    "consumption of a student (based on the other columns) or predicting the grades he/she will\n",
    "get. Furthermore, we can also explore some characteristics of the dataset, like inspecting\n",
    "how alcohol influences the grades of a student.\n",
    "Finally we can try to compare these results with other’s taken from other similar dataset\n",
    "(students from different countries or older/younger) and see if there is correlation from them.\n",
    "Dataset: https://www.kaggle.com/uciml/student-alcohol-consumption#student-mat.csv\n",
    "\n",
    "### Our solution:\n",
    "\n",
    "Our first aim is to start applying a decision tree classifier (and later on also a random forest)\n",
    "on the dataset since it is easily understandable and as well as having a good classifier we\n",
    "can also see which are the variables that most affect the final result.\n",
    "Secondly we will apply a naive bayes classifier to compare the results we get from the\n",
    "decision tree to it. Also with the naive classifier we can try to inspect which attributes\n",
    "contribute the most to predict the outcome.\n",
    "Eventually we can try to apply a small neural network on the dataset and see if it we can\n",
    "achieve a better accuracy, even if the dataset is not so big and the probability of it are low.\n",
    "\n",
    "### Literature:\n",
    "\n",
    "Paper from the researchers who shared the dataset:\n",
    "https://bradzzz.gitbooks.io/ga-seattle-dsi/dsi/dsi_05_classification_databases/2.1-lesson/ass\n",
    "ets/datasets/STUDENT%20ALCOHOL%20CONSUMPTION.pdf\n",
    "A study on alcohol consumption of undergraduate students in the UK in 2000-2001:\n",
    "https://bmcpublichealth.biomedcentral.com/articles/10.1186/1471-2458-8-163\n",
    "A similar study also in UK during 2008-2009:\n",
    "https://www.ncbi.nlm.nih.gov/pmc/articles/PMC3843305/"
   ]
  },
  {
   "cell_type": "markdown",
   "metadata": {},
   "source": [
    "Load the dataset (that is splitted in two, we are going to merge it together)"
   ]
  },
  {
   "cell_type": "code",
   "execution_count": 26,
   "metadata": {},
   "outputs": [
    {
     "name": "stdout",
     "output_type": "stream",
     "text": [
      "[ 0  1  4  5  6  7  8  9 10 11 12 13 14 15 16 17 18 19 20]\n",
      "(395, 33)\n",
      "(649, 33)\n",
      "[['GP' 'F' 18 ... 5 6 6]\n",
      " ['GP' 'F' 17 ... 5 5 6]\n",
      " ['GP' 'F' 15 ... 7 8 10]\n",
      " ...\n",
      " ['MS' 'F' 18 ... 16 15 15]\n",
      " ['MS' 'F' 19 ... 7 8 9]\n",
      " ['MS' 'F' 17 ... 6 9 11]]\n"
     ]
    }
   ],
   "source": [
    "import pandas as pd\n",
    "import numpy as np\n",
    "import category_encoders as ce\n",
    "import matplotlib.pyplot as plt\n",
    "%matplotlib inline\n",
    "\n",
    "#reading the two csv files and merging them with 'append'\n",
    "data_mat = pd.read_csv('student-mat.csv')\n",
    "data_por = pd.read_csv('student-por.csv')\n",
    "merged = data_mat.append(data_por)\n",
    "\n",
    "column_names = merged.columns\n",
    "classNames = merged.G3.unique()\n",
    "classNames = np.sort(classNames)\n",
    "print(classNames)\n",
    "\n",
    "\n",
    "#we have to use certain columns for removing duplicates (not all of the columns), the column names are given in the .R file\n",
    "column_names_for_subsetting = [\"school\",\"sex\",\"age\",\"address\",\"famsize\",\"Pstatus\",\"Medu\",\"Fedu\",\"Mjob\",\"Fjob\",\"reason\",\"nursery\",\"internet\"]\n",
    "merged = merged.drop_duplicates(subset = column_names_for_subsetting).values\n",
    "\n",
    "print(data_mat.shape)\n",
    "print(data_por.shape)\n",
    "print(merged)"
   ]
  },
  {
   "cell_type": "markdown",
   "metadata": {},
   "source": [
    "# Preprocessing"
   ]
  },
  {
   "cell_type": "code",
   "execution_count": 27,
   "metadata": {},
   "outputs": [
    {
     "name": "stdout",
     "output_type": "stream",
     "text": [
      "[[ 1  1 18 ...  5  6  6]\n",
      " [ 1  1 17 ...  5  5  6]\n",
      " [ 1  1 15 ...  7  8 10]\n",
      " ...\n",
      " [ 2  1 18 ... 16 15 15]\n",
      " [ 2  1 19 ...  7  8  9]\n",
      " [ 2  1 17 ...  6  9 11]]\n"
     ]
    }
   ],
   "source": [
    "# creating a categorical encoder with the indices list\n",
    "# the encoder will encode only those columns which are in the indices\n",
    "indices = [0,1,3,4,5,8,9,10,11,15,16,17,18,19,20,21,22]\n",
    "encoder = ce.ordinal.OrdinalEncoder(cols = indices)\n",
    "\n",
    "#encoding the selected columns\n",
    "#the encoder returns a pandas dataframe so we have to use the 'values' again to get the values in a numpy array\n",
    "merged = encoder.fit_transform(merged)\n",
    "merged = merged.values\n",
    "print(merged)\n",
    "\n",
    "\n"
   ]
  },
  {
   "cell_type": "code",
   "execution_count": 28,
   "metadata": {},
   "outputs": [],
   "source": [
    "# import matplotlib.pyplot as plt\n",
    "# import numpy as np\n",
    "\n",
    "# for i in range(0,33):\n",
    "#     #fig, pc = plt.subplots(1,2,figsize=(10,10))\n",
    "#     #for j in range(1,2):\n",
    "#     plt.plot(merged[:, i], merged[:, 32], 'g.')\n",
    "    \n",
    "#     plt.show()\n",
    "# #         pc[0][j].set_title(f'PC {i+1} over PC {j+1}')\n",
    "# #         pc[0][j].set_xlabel(f'PC {i+1}')\n",
    "# #         pc[0][j].set_ylabel(f'PC {j+1}')\n",
    "\n",
    "\n",
    "# plt.tight_layout()\n",
    "# plt.show()"
   ]
  },
  {
   "cell_type": "code",
   "execution_count": 29,
   "metadata": {},
   "outputs": [
    {
     "name": "stdout",
     "output_type": "stream",
     "text": [
      "[[ 1  1 18 ...  5  6  6]\n",
      " [ 1  1 17 ...  5  5  6]\n",
      " [ 1  1 15 ...  7  8 10]\n",
      " ...\n",
      " [ 2  1 18 ... 16 15 15]\n",
      " [ 2  1 19 ...  7  8  9]\n",
      " [ 2  1 17 ...  6  9 11]]\n"
     ]
    }
   ],
   "source": [
    "#deleting possible outliers, the one with grade 0, 1 or 5\n",
    "merged = merged[merged[:,32] > 0, :]\n",
    "print(merged)"
   ]
  },
  {
   "cell_type": "code",
   "execution_count": 30,
   "metadata": {},
   "outputs": [
    {
     "name": "stdout",
     "output_type": "stream",
     "text": [
      "[[-0.72870939 -0.84210526  0.96238353 ... -1.98058448 -1.74256804\n",
      "  -1.82898916]\n",
      " [-0.72870939 -0.84210526  0.17066268 ... -1.98058448 -2.07803278\n",
      "  -1.82898916]\n",
      " [-0.72870939 -0.84210526 -1.41277902 ... -1.31716394 -1.07163857\n",
      "  -0.50057679]\n",
      " ...\n",
      " [ 1.37228917 -0.84210526  0.96238353 ...  1.66822846  1.27661459\n",
      "   1.15993868]\n",
      " [ 1.37228917 -0.84210526  1.75410438 ... -1.31716394 -1.07163857\n",
      "  -0.83267988]\n",
      " [ 1.37228917 -0.84210526  0.17066268 ... -1.64887421 -0.73617383\n",
      "  -0.16847369]]\n"
     ]
    }
   ],
   "source": [
    "merged_std = (merged - np.mean(merged, axis=0)) / np.std(merged, axis=0)\n",
    "print(merged_std)"
   ]
  },
  {
   "cell_type": "code",
   "execution_count": 31,
   "metadata": {},
   "outputs": [],
   "source": [
    "from sklearn.preprocessing import normalize\n",
    "\n",
    "merged_norm = normalize(merged, axis=0)"
   ]
  },
  {
   "cell_type": "markdown",
   "metadata": {},
   "source": [
    "# Dividing in training and test"
   ]
  },
  {
   "cell_type": "code",
   "execution_count": 32,
   "metadata": {},
   "outputs": [
    {
     "name": "stdout",
     "output_type": "stream",
     "text": [
      "(617, 30) (617,)\n"
     ]
    }
   ],
   "source": [
    "import sklearn.model_selection as skl\n",
    "\n",
    "#shows how much data you want to put in the testing dataset, the rest goes to the training one\n",
    "holdout = 0.3\n",
    "\n",
    "#use the same seed for all the depths\n",
    "random_seed = 0\n",
    "\n",
    "X = merged[:, :30]\n",
    "y = merged[:, 32]\n",
    "\n",
    "print(X.shape, y.shape)\n",
    "\n",
    "X_train, X_test, y_train, y_test = skl.train_test_split(X, y, test_size=holdout, random_state=random_seed)"
   ]
  },
  {
   "cell_type": "markdown",
   "metadata": {},
   "source": [
    "# Alcohol inspection"
   ]
  },
  {
   "cell_type": "code",
   "execution_count": 33,
   "metadata": {},
   "outputs": [
    {
     "name": "stdout",
     "output_type": "stream",
     "text": [
      "Index(['school', 'sex', 'age', 'address', 'famsize', 'Pstatus', 'Medu', 'Fedu',\n",
      "       'Mjob', 'Fjob', 'reason', 'guardian', 'traveltime', 'studytime',\n",
      "       'failures', 'schoolsup', 'famsup', 'paid', 'activities', 'nursery',\n",
      "       'higher', 'internet', 'romantic', 'famrel', 'freetime', 'goout', 'Dalc',\n",
      "       'Walc', 'health', 'absences', 'G1', 'G2', 'G3'],\n",
      "      dtype='object')\n",
      "Index(['Dalc', 'Walc'], dtype='object')\n",
      "[1 1 2 1 1 1 1 1 1 1 1 1 1 1 1 1 1 1 2 1 1 1 1 2 1 1 1 2 1 5 3 1 1 1 1 1 1\n",
      " 1 1 1 1 2 1 1 2 1 1 1 2 1 2 1 3 2 4 1 1 1 1 1 2 5 1 2 2 1 5 1 1 2 1 1 2 2\n",
      " 2 2 1 1 1 1 1 1 1 1 2 2 1 1 1 3 1 1 2 1 1 1 1 1 1 1 5 1 1 1 1 1 1 1 3 1 1\n",
      " 1 1 1 1 1 1 1 1 1 1 1 1 1 1 3 1 1 2 1 1 1 1 2 1 3 1 1 2 3 2 1 1 3 1 1 4 1\n",
      " 1 1 1 2 1 1 1 1 1 4 1 1 3 1 2 2 2 1 2 1 1 1 1 1 1 4 3 1 1 1 3 2 1 1 1 1 1\n",
      " 1 3 2 1 1 1 1 4 1 2 1 1 2 2 1 1 1 1 5 1 1 1 1 4 1 1 1 1 2 1 1 5 1 1 1 2 1\n",
      " 1 1 5 1 2 2 1 2 1 2 1 1 1 1 1 1 1 1 3 3 2 1 3 1 1 2 1 2 1 1 1 1 2 3 1 1 1\n",
      " 1 1 1 1 1 1 1 1 1 1 1 1 1 2 1 2 1 1 1 1 1 1 1 1 1 2 1 1 1 1 2 3 1 1 2 2 2\n",
      " 2 3 5 1 1 2 1 1 1 1 2 1 1 1 2 1 2 1 5 3 2 2 3 1 1 1 1 1 1 1 2 1 1 1 2 2 1\n",
      " 4 1 2 1 1 1 1 1 3 1 2 1 1 1 4 1 2 1 4 3 3 3 3 2 1 1 1 1 1 4 5 1 1 2 1 2 3\n",
      " 1 2 1 1 1 1 1 1 2 1 1 1 1 1 1 1 1 1 2 1 1 1 1 4 1 2 1 1 1 2 1 1 4 2 1 1 1\n",
      " 1 1 1 1 1 1 1 1 1 2 3 4 1 2 2 2 1 1 2 2 3 1 1 1 1 1 1 1 5 1 4 1 1 4 1 1 1\n",
      " 1 1 1 1 2 1 1 1 1 1 2 3 1 1 1 1 1 1 2 1 1 2 1 5 1 1 1 1 1 3 2 5 1 1 1 4 1\n",
      " 2 3 2 1 1 1 1 1 2 1 2 3 1 1 2 1 1 1 1 1 1 1 1 1 1 3 1 4 1 3 1 1 2 3 1 1 5\n",
      " 1 3 1 1 1 2 1 1 1 1 1 1 1 1 1 2 1 1 1 1 1 5 1 1 1 2 1 1 5 3 1 1 2 1 2 1 2\n",
      " 2 2 1 1 1 3 3 1 2 1 2 2 2 3 1 2 1 2 1 3 1 1 1 1 2 2 2 1 1 2 1 1 1 2 3 1 1\n",
      " 1 2 1 1 1 1 1 1 1 1 1 5 1 3 1 1 1 3 1 1 1 1 1 1 1]\n"
     ]
    }
   ],
   "source": [
    "#let's merge alcohol, it is part of the same variable\n",
    "print(column_names)\n",
    "print(column_names[26:28])\n",
    "#as we know from here, we are interested in columns 26 and 27\n",
    "alcohol = merged[:, 26] + merged[:, 27]\n",
    "print(merged[:, 26])\n"
   ]
  },
  {
   "cell_type": "code",
   "execution_count": 36,
   "metadata": {},
   "outputs": [
    {
     "data": {
      "image/png": "[encoded data removed]",
      "text/plain": [
       "<Figure size 432x288 with 1 Axes>"
      ]
     },
     "metadata": {
      "needs_background": "light"
     },
     "output_type": "display_data"
    },
    {
     "name": "stdout",
     "output_type": "stream",
     "text": [
      "Figure 1: a plot of the data A against C.\n"
     ]
    }
   ],
   "source": [
    "\n",
    "\n",
    "target = merged[:,32] >= 10\n",
    "\n",
    "plt.scatter(alcohol, merged[:,32])\n",
    "plt.xlabel('A')\n",
    "plt.ylabel('C')\n",
    "plt.title('A against C')\n",
    "plt.show()\n",
    "print('Figure 1: a plot of the data A against C.')"
   ]
  },
  {
   "cell_type": "code",
   "execution_count": null,
   "metadata": {},
   "outputs": [],
   "source": [
    "import seaborn as sns; sns.set()\n",
    "\n",
    "print(np.count_nonzero(y == 1)\n",
    "\n",
    "values = np.asarray[]\n",
    "\n",
    "\n",
    "      \n",
    "ax = sns.heatmap(flights, annot=True, fmt=\"d\")"
   ]
  }
 ],
 "metadata": {
  "kernelspec": {
   "display_name": "Python 3",
   "language": "python",
   "name": "python3"
  },
  "language_info": {
   "codemirror_mode": {
    "name": "ipython",
    "version": 3
   },
   "file_extension": ".py",
   "mimetype": "text/x-python",
   "name": "python",
   "nbconvert_exporter": "python",
   "pygments_lexer": "ipython3",
   "version": "3.7.3"
  }
 },
 "nbformat": 4,
 "nbformat_minor": 2
}
